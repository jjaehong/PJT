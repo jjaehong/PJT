{
 "cells": [
  {
   "cell_type": "markdown",
   "metadata": {},
   "source": [
    "## 09 PJT"
   ]
  },
  {
   "cell_type": "markdown",
   "metadata": {},
   "source": [
    "#### Vue를 사용한 쇼핑몰 장바구니 기능 구현\n",
    "\n",
    "\n",
    "![이미지](이미지/쇼핑몰%20장바구니%20구현.PNG)\n",
    "\n",
    "![이미지](이미지/쇼핑몰%20장바구니%20구현1.PNG)\n",
    "\n",
    "- 상품 목록 페이지\n",
    "\n",
    "- 상품 상세 페이지\n",
    "\n",
    "- 장바구니 페이지\n"
   ]
  },
  {
   "cell_type": "markdown",
   "metadata": {},
   "source": [
    "axios(외부에 요청을 보내고 받아온 데이터로 업데이트함)  == requests"
   ]
  },
  {
   "cell_type": "markdown",
   "metadata": {},
   "source": [
    "1. 데이터 불러오기(from fakestoreapi)\n",
    "\n",
    "2. products 출력\n",
    "\n",
    "3. 상세 페이지 이동\n",
    "\n",
    "4. 장바구니 추가"
   ]
  },
  {
   "cell_type": "markdown",
   "metadata": {},
   "source": []
  },
  {
   "cell_type": "markdown",
   "metadata": {},
   "source": [
    "router을 통해 데이터를 전달하는 방법 2가지\n",
    "\n",
    "- params\n",
    "    \n",
    "    - 데이터를 슬래쉬(/) 뒤에 변수로 쓰겠다\n",
    "    \n",
    "    - (ex) /1, /2, /3 \n",
    "\n",
    "- query \n",
    "\n",
    "    - **?**q=\"key\"\n",
    "\n",
    "    - ?id=2\n",
    "\n",
    "    - 데이터를 객체 등으로 받기"
   ]
  },
  {
   "cell_type": "markdown",
   "metadata": {},
   "source": []
  },
  {
   "cell_type": "markdown",
   "metadata": {},
   "source": [
    "브라우저에서 임시로 데이터를 저장할 공간\n",
    "\n",
    "\n",
    "\n",
    "Local Storage(브라우저의 스토리지)\n",
    "\n",
    "- 반영구적으로 브라우저에 저장할 수 있는 공간\n",
    "    - 브라우저를 껐다 켜도 데이터가 유지됨\n",
    "\n",
    "- 5MB 정도의 데이터를 저장할 수 있음\n",
    "    - 쿠키보다 많은 데이터를 저장할 수 있다.\n",
    "\n",
    "- 보안이 조금 위험하다\n",
    "    - 최대한 위험 수준이 낮은 데이터만 저장해야 한다.\n",
    "\n",
    "- value에는 문자열만 저장 가능\n",
    "    - 따라서 setItem : JSON-> 문자열 형식으로 바꿔서 저장해야함\n",
    "    - getItem : 문자열 -> JSON\n",
    "\n",
    "- 브라우저 쪽에 임시로 저장하고 싶은 데이터가 있다? \n",
    "- 그런데, 보안 수준이 낮다?\n",
    "\n",
    "    - 로컬 스토리지 사용!\n",
    "\n"
   ]
  },
  {
   "cell_type": "markdown",
   "metadata": {},
   "source": []
  }
 ],
 "metadata": {
  "language_info": {
   "name": "python"
  }
 },
 "nbformat": 4,
 "nbformat_minor": 2
}
