{
 "cells": [
  {
   "cell_type": "markdown",
   "metadata": {},
   "source": [
    "## 6. 관계형 DB 설계\n",
    "\n",
    "- 회원제 게시판 구현(장고 복습 위주)\n",
    "\n",
    "    회원제 게시판은 거의 모든 웹 애플리케이션에서 사용되는 핵심 기술들을 포함하고 있다.\n",
    "\n",
    "    - 1. CRUD\n",
    "\n",
    "    - 2. 회원 가입, 로그인\n",
    "\n",
    "- 게시판 코드 분석\n",
    "\n",
    "    - 제공된 코드는 회원 기능을 제외한 기본적인 게시판 + 댓글 기능이 구현되어 있음"
   ]
  },
  {
   "cell_type": "code",
   "execution_count": 3,
   "metadata": {},
   "outputs": [
    {
     "name": "stdout",
     "output_type": "stream",
     "text": [
      "로그인 하고 와라!\n"
     ]
    }
   ],
   "source": [
    "# 데코레이터 개념\n",
    "\n",
    "# 전처리, 후처리 로직이 너무 길다!\n",
    "# 중복되는 코드가 너무 많이 발생!!! -> 이걸 어떻게 없앨까 ?\n",
    "# 파이썬의 데코레이터를 활용한다!\n",
    "\n",
    "islogined = True\n",
    "# islogined = False\n",
    "\n",
    "# myFunc: 핵심 로직을 구현한 함수\n",
    "def myFunc():\n",
    "    print('myfunc')\n",
    "\n",
    "\n",
    "def my_decorator(func):\n",
    "    def wrapper():\n",
    "\n",
    "        # 전처리\n",
    "        if not islogined:\n",
    "            print('로그인 하고 와라!')\n",
    "            return\n",
    "\n",
    "        func()\n",
    "\n",
    "        # 후처리\n",
    "        print('로직 끝남!')\n",
    "    return wrapper\n",
    "\n",
    "@my_decorator\n",
    "def myFunc():\n",
    "    print('myfunc')\n",
    "\n",
    "myFunc()"
   ]
  },
  {
   "cell_type": "markdown",
   "metadata": {},
   "source": [
    "#### 1. 기본 유저 모델 -> 커스텀 유저모델로 대체하기\n",
    "\n",
    "- auth.user(기본 유저 모델) -> accounts.user\n",
    "\n",
    "- 1. 중간에 커스텀 유저 모델로 대체한다면 db.sqlite3 삭제하고, migrations에서 migrate내용 삭제\n",
    "\n",
    "- 2. accounts 앱 생성 후 등록\n",
    "\n",
    "- 3. models.py : AbstractUser을 상속받은 User모델 생성\n",
    "\n",
    "- 4. settings.py : AUTH_USER_MODEL = 'accounts.User'\n",
    "\n",
    "- 5. admin.py : admin.site.register(User,UserAdmin)\n",
    "\n"
   ]
  }
 ],
 "metadata": {
  "kernelspec": {
   "display_name": "Python 3",
   "language": "python",
   "name": "python3"
  },
  "language_info": {
   "codemirror_mode": {
    "name": "ipython",
    "version": 3
   },
   "file_extension": ".py",
   "mimetype": "text/x-python",
   "name": "python",
   "nbconvert_exporter": "python",
   "pygments_lexer": "ipython3",
   "version": "3.9.13"
  }
 },
 "nbformat": 4,
 "nbformat_minor": 2
}
