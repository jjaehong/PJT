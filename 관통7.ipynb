{
 "cells": [
  {
   "cell_type": "markdown",
   "metadata": {},
   "source": [
    "## 7. REST API Server 제작\n"
   ]
  },
  {
   "cell_type": "markdown",
   "metadata": {},
   "source": [
    "#### 1. REST 목표\n",
    "\n",
    "- URL 식별자만 표시하자\n",
    "\n",
    "- HTTP method 표기하자(GET,POST,PUT,DELETE)\n",
    "\n",
    "\n",
    "1. REST API 서버를 직접 구현함(JSON 형식으로)\n",
    "\n",
    "2. 데이터는 날씨 정보 원본 데이터를 OpenWeatherMap API를 통해 몰래 가져올 것임\n",
    "\n",
    "    - 데이터 수집 , DB 저장, 반환하는 API(postman 사용)\n",
    "\n",
    "3.\n",
    "\n",
    "\n",
    "4. 정리\n",
    "\n",
    "    - 날씨 정보를 제공하는 REST API 서버 개발\n",
    "\n",
    "    - Open WeatherMap API를 활용하여 데이터를 가져온다.\n",
    "    \n",
    "    - DB를 구축하여 날씨 정보를 DB에 저장 후 활용한다.\n"
   ]
  },
  {
   "cell_type": "markdown",
   "metadata": {},
   "source": [
    "#### 2. 날씨 데이터를 활용한 REST API Server 구축\n",
    "\n",
    "\n",
    "1. 준비사항(API KEY 발급)\n",
    "\n",
    "\n",
    "2. 구현하기"
   ]
  },
  {
   "cell_type": "markdown",
   "metadata": {},
   "source": [
    "#### 내용 정리\n",
    "\n",
    "\n",
    "\n",
    "1.\n",
    "\n",
    "\n",
    "\n",
    "\n",
    "\n",
    "2. db에 데이터 저장하는 방법\n",
    "\n",
    "\n",
    "![이미지](이미지/serializer.PNG)\n",
    "\n",
    "serializer : 내가 원하는 형태로 데이터를 포장하겠다! (보통 JSON 형태)\n",
    "\n",
    "\n",
    "\n",
    "\n",
    "3.\n",
    "\n",
    "\n",
    "\n",
    "\n"
   ]
  },
  {
   "cell_type": "markdown",
   "metadata": {},
   "source": []
  },
  {
   "cell_type": "code",
   "execution_count": null,
   "metadata": {},
   "outputs": [],
   "source": []
  },
  {
   "cell_type": "code",
   "execution_count": null,
   "metadata": {},
   "outputs": [],
   "source": []
  }
 ],
 "metadata": {
  "language_info": {
   "name": "python"
  }
 },
 "nbformat": 4,
 "nbformat_minor": 2
}
