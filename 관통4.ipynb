{
 "cells": [
  {
   "cell_type": "markdown",
   "metadata": {},
   "source": [
    "## 4. Django + 데이터 사이언스\n",
    "\n",
    "- django + matplotlib + numpy + pandas\n",
    "\n",
    "![이미지](이미지/장고데이터사이언스.PNG)\n",
    "\n",
    "- 장고에서 데이터 사이언스 패키지를 사용하는 이유는 결과를 웹 페이지에서 보여주기 위함임!\n",
    "\n",
    "\n",
    "- 데이터 사이언스 3종 패키지 사용 방법\n",
    "\n",
    "- Django 기본 사용 방법\n"
   ]
  },
  {
   "cell_type": "markdown",
   "metadata": {},
   "source": [
    "#### 장고흐름\n",
    "\n",
    "![이미지](이미지/장고흐름.PNG)\n",
    "\n",
    "\n",
    "![이미지](이미지/임시저장후%20꺼내쓰기.PNG)\n",
    "![이미지](이미지/임시저장후%20꺼내쓰기1.PNG)"
   ]
  }
 ],
 "metadata": {
  "language_info": {
   "name": "python"
  },
  "orig_nbformat": 4
 },
 "nbformat": 4,
 "nbformat_minor": 2
}
